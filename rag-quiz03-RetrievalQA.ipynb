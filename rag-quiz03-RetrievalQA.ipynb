{
 "cells": [
  {
   "cell_type": "code",
   "execution_count": null,
   "id": "378bac36",
   "metadata": {},
   "outputs": [],
   "source": [
    "## law_1.docx\n",
    "- pinecone store 저장\n",
    "    - index name: 임의\n",
    "- RetrievalQA 구현\n",
    "    - prompt: rlm/rag-prompt\n",
    "    - 질문: 전세사기\n"
   ]
  },
  {
   "cell_type": "code",
   "execution_count": 20,
   "id": "65a7fed9",
   "metadata": {},
   "outputs": [],
   "source": [
    "from dotenv import load_dotenv\n",
    "import os\n",
    "from pinecone import Pinecone \n",
    "from langchain_pinecone import PineconeVectorStore\n",
    "from langchain import hub\n",
    "from langchain_openai import OpenAIEmbeddings, ChatOpenAI\n",
    "from langchain_core.output_parsers import StrOutputParser\n",
    "from langchain_core.runnables import RunnablePassthrough\n",
    "from langchain_community.document_loaders import Docx2txtLoader\n",
    "from langchain_text_splitters import RecursiveCharacterTextSplitter\n",
    "\n",
    "\n",
    "load_dotenv()\n",
    "\n",
    "api_key = os.getenv('PINECONE_API_KEY')\n",
    "pc = Pinecone(api_key=api_key)\n",
    "\n",
    "llm = ChatOpenAI()\n",
    "\n",
    "prompt = hub.pull('rlm/rag-prompt')\n",
    "\n",
    "loader = Docx2txtLoader('law_1.docx')\n",
    "\n",
    "text_splitter = RecursiveCharacterTextSplitter(\n",
    "    chunk_size=1500,\n",
    "    chunk_overlap=200,\n",
    ")\n",
    "\n",
    "document_list = loader.load_and_split(text_splitter=text_splitter)\n",
    "\n",
    "embedding = OpenAIEmbeddings(model='text-embedding-3-large')\n",
    "\n",
    "database = PineconeVectorStore.from_documents(\n",
    "index_name='law-index',\n",
    "embedding=embedding,\n",
    "documents=document_list,\n",
    "    )"
   ]
  },
  {
   "cell_type": "code",
   "execution_count": 21,
   "id": "435cee80",
   "metadata": {},
   "outputs": [
    {
     "data": {
      "text/plain": [
       "'전세사기피해자는 전세금을 사기당한 사람을 가리킵니다. 이는 부동산 계약 상 설명된 것과 다른 조건으로 전세금을 받고 사라지는 사기 피해를 의미합니다. 흔히 사기꾼이 부정한 방법으로 돈을 취득하는 것으로 이해할 수 있습니다.'"
      ]
     },
     "execution_count": 21,
     "metadata": {},
     "output_type": "execute_result"
    }
   ],
   "source": [
    "database = PineconeVectorStore(\n",
    "index_name='law-index',\n",
    "embedding=embedding,\n",
    "    )\n",
    "\n",
    "def format_docs(docs):\n",
    "    return '\\n\\n'.join(doc.page_content for doc in docs)\n",
    "\n",
    "qa_chain = (\n",
    "    {\n",
    "        'context': database.as_retriever() | format_docs,\n",
    "        'question': RunnablePassthrough(),\n",
    "    }\n",
    "    | prompt \n",
    "    | llm    \n",
    "    | StrOutputParser() \n",
    ")\n",
    "\n",
    "qa_chain.invoke('전세사기피해자란?')"
   ]
  }
 ],
 "metadata": {
  "kernelspec": {
   "display_name": "project",
   "language": "python",
   "name": "python3"
  },
  "language_info": {
   "codemirror_mode": {
    "name": "ipython",
    "version": 3
   },
   "file_extension": ".py",
   "mimetype": "text/x-python",
   "name": "python",
   "nbconvert_exporter": "python",
   "pygments_lexer": "ipython3",
   "version": "3.10.12"
  }
 },
 "nbformat": 4,
 "nbformat_minor": 5
}
