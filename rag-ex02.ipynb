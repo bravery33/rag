{
 "cells": [
  {
   "cell_type": "code",
   "execution_count": null,
   "id": "5baab1c5",
   "metadata": {},
   "outputs": [
    {
     "data": {
      "text/plain": [
       "'전세사기피해자에게는 금융지원이 제공될 수 있습니다. 국가 및 지방자치단체는 전세사기피해자 및 특정 요건을 충족하는 임차인의 긴박한 주거안정을 보호하기 위해 필요한 자금을 융자하거나 다른 지원을 할 수 있습니다. 또한, 전세사기피해자에게는 주택도시기금에서 주택의 임대차에 필요한 자금을 융자할 수 있는 특례가 존재합니다. 이를 통해 전세사기피해자들의 주거안정을 지원하고 있습니다.'"
      ]
     },
     "execution_count": 1,
     "metadata": {},
     "output_type": "execute_result"
    }
   ],
   "source": []
  },
  {
   "cell_type": "code",
   "execution_count": 6,
   "id": "89825d16",
   "metadata": {},
   "outputs": [],
   "source": [
    "from dotenv import load_dotenv\n",
    "from langchain_chroma import Chroma\n",
    "from langchain_openai import OpenAIEmbeddings, ChatOpenAI\n",
    "from langchain_community.document_loaders import Docx2txtLoader\n",
    "from langchain_text_splitters import RecursiveCharacterTextSplitter\n",
    "\n",
    "\n",
    "# 1. 문서 내용 읽고 분할 #######################################\n",
    "loader = Docx2txtLoader('law_1.docx')\n",
    "\n",
    "text_splitter = RecursiveCharacterTextSplitter(\n",
    "    chunk_size=1500,\n",
    "    chunk_overlap=200,\n",
    ")\n",
    "\n",
    "document_list = loader.load_and_split(text_splitter=text_splitter)\n",
    "\n",
    "# 2. 임베딩 -> 백터 데이터베이스에 저장  #########################\n",
    "\n",
    "## 2.1 환경변수 읽어오기\n",
    "load_dotenv()\n",
    "\n",
    "## 2.2 임베딩 모델 지정\n",
    "embedding = OpenAIEmbeddings(\n",
    "    model='text-embedding-3-large'\n",
    ")\n",
    "\n",
    "## 2.3 벡터 데이터베이스에 생성 및 저장(in local)\n",
    "# database = Chroma.from_documents(\n",
    "#     documents=document_list,\n",
    "#     embedding=embedding,\n",
    "#     persist_directory='./chroma',\n",
    "#     collection_name='chroma-law',\n",
    "# )\n",
    "\n",
    "## 2.4 로컬에 저장된 임베딩 데이터 가져오기\n",
    "database = Chroma(\n",
    "    collection_name='chroma-law',\n",
    "    persist_directory='./chroma',\n",
    "    embedding_function=embedding,\n",
    ")"
   ]
  },
  {
   "cell_type": "code",
   "execution_count": 7,
   "id": "cd5ae193",
   "metadata": {},
   "outputs": [
    {
     "data": {
      "text/plain": [
       "'답변: 전세사기피해자로 인정받기 위한 조건은 다음과 같습니다:\\n1. 주택의 인도와 주민등록을 마치고 주택임대차계약증서상의 확정일자를 갖추어야 합니다.\\n2. 임차인의 임차보증금이 5억원 이하여야 합니다.\\n3. 임대인의 파산, 회생절차 개시 또는 임차주택의 경매, 공매절차 개시, 임차인의 집행권원 확보 등에 해당하는 경우에 임차인에게 임차보증금반환채권의 변제를 받지 못하는 피해가 발생하거나 발생할 것이 예상되어야 합니다.\\n4. 임대인에 대한 수사 개시, 기망, 임차보증금을 반환할 능력이 없는 자에 대한 임차주택의 양도 또는 임차보증금을 반환할 능력 없이 다수의 주택 취득ㆍ임대 등 임대인이 임차보증금반환채무를 이행하지 않을 의도가 의심되는 상당한 이유가 있어야 합니다.'"
      ]
     },
     "execution_count": 7,
     "metadata": {},
     "output_type": "execute_result"
    }
   ],
   "source": [
    "# 3. 질문이 있으면, 벡터 데이터베이스에서 유사도 검색  #############\n",
    "\n",
    "## 3.1 사용자 질문\n",
    "query = '전세사기피해자로 인정받기 위한 조건은?'\n",
    "\n",
    "## 3.2 벡터 데이터베이스에서 유사도 검색\n",
    "retrieved_docs = database.similarity_search(query=query, k=2)\n",
    "\n",
    "# 4. 유사도 검색으로 가져온 문서를 LLM에 질문과 같이 전달 ###########\n",
    "\n",
    "## 4.1 프롬프트 작성\n",
    "prompt = '''\n",
    "[identity]\n",
    "- 당신은 전세사기피해 법률 전문가입니다.\n",
    "- [context]를 참고하여 사용자의 질문에 답변해주세요.\n",
    "\n",
    "[context]\n",
    "{retrieved_docs}\n",
    "\n",
    "Question: {query}\n",
    "'''\n",
    "\n",
    "## 4.2 프롬프트 변수에 값 설정\n",
    "formatted_prompt = prompt.format(retrieved_docs=retrieved_docs, query=query)\n",
    " \n",
    "## 4.3 LLM 모델 생성(ChatOpenAI 인스턴스 생성)\n",
    "llm = ChatOpenAI()\n",
    "\n",
    "## 4.4 LLM 모델에 질문과 검색된 문서를 보냄\n",
    "ai_message = llm.invoke(formatted_prompt)\n",
    "ai_message.content"
   ]
  }
 ],
 "metadata": {
  "kernelspec": {
   "display_name": "project",
   "language": "python",
   "name": "python3"
  },
  "language_info": {
   "codemirror_mode": {
    "name": "ipython",
    "version": 3
   },
   "file_extension": ".py",
   "mimetype": "text/x-python",
   "name": "python",
   "nbconvert_exporter": "python",
   "pygments_lexer": "ipython3",
   "version": "3.10.12"
  }
 },
 "nbformat": 4,
 "nbformat_minor": 5
}
