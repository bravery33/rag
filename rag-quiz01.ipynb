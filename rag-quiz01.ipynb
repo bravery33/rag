{
 "cells": [
  {
   "cell_type": "markdown",
   "id": "c8f0b076",
   "metadata": {},
   "source": [
    "# [문제]\n",
    "- law_2.docx 파일을 읽고, Chroma에 저장\n",
    "- LLM 질문 -> 답변\n",
    "- 전세사기피해에 관한 법률 질문만 받기\n",
    "- 이 외의 질문은 '답변을 할 수 없습니다.'"
   ]
  },
  {
   "cell_type": "code",
   "execution_count": null,
   "id": "1956e303",
   "metadata": {},
   "outputs": [],
   "source": [
    "from dotenv import load_dotenv\n",
    "from langchain_chroma import Chroma\n",
    "from langchain_openai import OpenAIEmbeddings, ChatOpenAI\n",
    "from langchain_community.document_loaders import Docx2txtLoader\n",
    "from langchain_text_splitters import RecursiveCharacterTextSplitter\n",
    "\n",
    "\n",
    "loader = Docx2txtLoader('law_2.docx')\n",
    "\n",
    "text_splitter = RecursiveCharacterTextSplitter(\n",
    "    chunk_size=1500,\n",
    "    chunk_overlap=200,\n",
    ")\n",
    "\n",
    "document_list = loader.load_and_split(text_splitter=text_splitter)\n",
    "\n",
    "load_dotenv()\n",
    "\n",
    "embedding = OpenAIEmbeddings(model='text-embedding-3-large')\n",
    "\n",
    "database = Chroma.from_documents(\n",
    "    documents=document_list,\n",
    "    embedding=embedding,\n",
    "    persist_directory='./chroma',\n",
    "    collection_name='chroma-law-2',\n",
    ")"
   ]
  },
  {
   "cell_type": "code",
   "execution_count": 7,
   "id": "824ca445",
   "metadata": {},
   "outputs": [
    {
     "name": "stdout",
     "output_type": "stream",
     "text": [
      "distance = 1.711654782295227\n",
      "답변을 할 수 없습니다\n"
     ]
    }
   ],
   "source": [
    "\n",
    "database = Chroma(\n",
    "    collection_name='chroma-law-2',\n",
    "    persist_directory='./chroma',\n",
    "    embedding_function=embedding,\n",
    ")\n",
    "\n",
    "query = '딸기 가격은?'\n",
    "\n",
    "docs_and_scores = database.similarity_search_with_score(query=query, k=1)\n",
    "print(\"distance =\", docs_and_scores[0][1])\n",
    "\n",
    "THRESHOLD = 1.5\n",
    "\n",
    "if not docs_and_scores or docs_and_scores[0][1] > THRESHOLD:\n",
    "    print(\"답변을 할 수 없습니다\")\n",
    "else:\n",
    "    retrieved_docs = [docs_and_scores[0][0]]\n",
    "\n",
    "    prompt = '''\n",
    "    [identity]\n",
    "    - 당신은 전세사기피해 법률 전문가입니다.\n",
    "    - [context]를 참고하여 사용자의 질문에 답변해주세요.\n",
    "\n",
    "    [context]\n",
    "    {retrieved_docs}\n",
    "\n",
    "    Question: {query}\n",
    "    '''\n",
    "\n",
    "    formatted_prompt = prompt.format(retrieved_docs=retrieved_docs, query=query)\n",
    "\n",
    "    llm = ChatOpenAI()\n",
    "\n",
    "    ai_message = llm.invoke(formatted_prompt)\n",
    "\n",
    "    print(ai_message.content)"
   ]
  }
 ],
 "metadata": {
  "kernelspec": {
   "display_name": "project",
   "language": "python",
   "name": "python3"
  },
  "language_info": {
   "codemirror_mode": {
    "name": "ipython",
    "version": 3
   },
   "file_extension": ".py",
   "mimetype": "text/x-python",
   "name": "python",
   "nbconvert_exporter": "python",
   "pygments_lexer": "ipython3",
   "version": "3.10.12"
  }
 },
 "nbformat": 4,
 "nbformat_minor": 5
}
