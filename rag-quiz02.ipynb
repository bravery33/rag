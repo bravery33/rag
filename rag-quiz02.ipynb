{
 "cells": [
  {
   "cell_type": "markdown",
   "id": "a4438a07",
   "metadata": {},
   "source": [
    "## 파이콘 벡터 DB에 저장 및 검색이 가능하도록 설정"
   ]
  },
  {
   "cell_type": "code",
   "execution_count": null,
   "id": "eff98dcc",
   "metadata": {},
   "outputs": [
    {
     "name": "stdout",
     "output_type": "stream",
     "text": [
      "Note: you may need to restart the kernel to use updated packages.\n"
     ]
    }
   ],
   "source": [
    "# 0. 패키지/라이브러리 설치\n",
    "# %pip install -qU docx2txt langchain_community langchain-text-splitters langchain_chroma\n",
    "# %pip install langchain-pinecone\n",
    "# %pip install pinecone"
   ]
  },
  {
   "cell_type": "code",
   "execution_count": 3,
   "id": "5baab1c5",
   "metadata": {},
   "outputs": [
    {
     "data": {
      "text/plain": [
       "'전세사기피해자에 대한 금융지원은 주로 정부와 금융기관이 협력하여 피해자들이 겪는 재정적 어려움을 완화하고 주거 안정을 도모하기 위한 조치들을 포함하고 있습니다. 전세사기피해자 금융지원의 주요 내용은 다음과 같습니다:\\n\\n1. **대출 지원**: 피해자들이 기존 전세금 회수가 어려운 상황에서 새로운 주거지를 마련하거나 계속 거주할 수 있도록 저리의 대출을 제공하는 프로그램이 있습니다. 이러한 대출은 전세금 반환 청구 소송 등을 고려하여 장기적으로 상환할 수 있도록 설계됩니다.\\n\\n2. **이자 지원**: 금융기관에서 제공하는 대출에 대한 이자 지원을 통해 피해자들의 부담을 줄이는 방안이 있습니다. 정부 혹은 지자체에서 이자의 일부를 지원함으로써 피해자들이 저렴한 비용으로 대출을 이용할 수 있도록 돕습니다.\\n\\n3. **주거 안정 지원**: 피해자들이 새로운 전세 계약을 체결하거나 기존 계약을 유지할 수 있도록 주거 지원금을 제공할 수 있습니다. 또한, 주거 이전 비용이나 임시 주거 시설 제공 등의 지원이 포함될 수 있습니다.\\n\\n4. **법률 지원 및 상담 서비스**: 전세사기 피해자들에게 법률적인 조언을 제공하고, 필요에 따라 변호사 선임 비용을 지원하는 등 법적 대응을 위한 지원이 제공됩니다. 이를 통해 피해자들이 법적 절차를 원활하게 진행할 수 있도록 돕습니다.\\n\\n5. **지원 절차 간소화**: 피해자들이 금융 지원을 보다 신속하게 받을 수 있도록 신청 절차를 간소화하고, 관련 서류 준비를 돕는 지원 서비스가 제공됩니다.\\n\\n이외에도 각 지자체나 개별 금융기관에서 추가적인 지원 프로그램을 운영할 수 있으니, 피해자들은 본인의 상황에 맞는 구체적인 지원책을 알아보시는 것이 좋습니다. 정부의 공식 웹사이트나 피해자 지원 센터에 문의하여 최신 정보와 맞춤형 상담을 받는 것이 도움이 될 것입니다.'"
      ]
     },
     "execution_count": 3,
     "metadata": {},
     "output_type": "execute_result"
    }
   ],
   "source": [
    "import os\n",
    "from dotenv import load_dotenv\n",
    "from pinecone import Pinecone\n",
    "from langchain_pinecone import PineconeVectorStore\n",
    "from langchain_openai import OpenAIEmbeddings, ChatOpenAI\n",
    "from langchain_community.document_loaders import Docx2txtLoader\n",
    "from langchain_text_splitters import RecursiveCharacterTextSplitter\n",
    "\n",
    "\n",
    "# 1. 문서 내용 읽고 분할 #######################################\n",
    "loader = Docx2txtLoader('law_2.docx') # --> 인스턴스 생성\n",
    "\n",
    "text_splitter = RecursiveCharacterTextSplitter( # --> 분할 설정\n",
    "    chunk_size=1500,\n",
    "    chunk_overlap=200,\n",
    ")\n",
    "\n",
    "document_list = loader.load_and_split(text_splitter=text_splitter)\n",
    "\n",
    "# 2. 임베딩 -> 백터 데이터베이스에 저장  #########################\n",
    "## 2.1 환경변수 읽어오기\n",
    "load_dotenv()\n",
    "\n",
    "## 2.2 임베딩 모델 지정\n",
    "embedding = OpenAIEmbeddings(\n",
    "    model='text-embedding-3-large'\n",
    ")\n",
    "\n",
    "## 3. Pinecone Vector DB\n",
    "api_key = os.getenv('PINECONE_API_KEY')\n",
    "pc = Pinecone(api_key=api_key)\n",
    "\n",
    "database = PineconeVectorStore.from_documents(\n",
    "    index_name='law-index-2',\n",
    "    embedding=embedding,\n",
    "    documents=document_list,    \n",
    ")\n",
    "\n",
    "# 4. 질문이 있으면, 벡터 데이터베이스에서 유사도 검색  #############\n",
    "## 4.1 사용자 질문\n",
    "query = '전세사기피해자 금융지원에 대해 설명해주세요.'\n",
    "\n",
    "## 4.2 벡터 데이터베이스에서 유사도 검색\n",
    "retrieved_docs = database.similarity_search(query=query, k=2)\n",
    "\n",
    "# 5. 유사도 검색으로 가져온 문서를 LLM에 질문과 같이 전달 ###########\n",
    "## 5.1 프롬프트 작성\n",
    "prompt = '''\n",
    "[identity]\n",
    "- 당신은 전세사기피해 법률 전문가입니다.\n",
    "- [context]를 참고하여 사용자의 질문에 답변해주세요.\n",
    "\n",
    "[context]\n",
    "{retrieved_docs}\n",
    "\n",
    "Question: {query}\n",
    "'''\n",
    "\n",
    "## 5.2 프롬프트 변수에 값 설정(format 함수)\n",
    "formatted_prompt = prompt.format(retrieved_docs=retrieved_docs, query=query)\n",
    " \n",
    "## 5.3 LLM 모델 생성(ChatOpenAI 인스턴스 생성)\n",
    "llm = ChatOpenAI(model='gpt-4o')\n",
    "\n",
    "## 5.4 LLM 모델에 질문과 검색된 문서를 보냄\n",
    "ai_message = llm.invoke(formatted_prompt)\n",
    "ai_message.content"
   ]
  }
 ],
 "metadata": {
  "kernelspec": {
   "display_name": "project",
   "language": "python",
   "name": "python3"
  },
  "language_info": {
   "codemirror_mode": {
    "name": "ipython",
    "version": 3
   },
   "file_extension": ".py",
   "mimetype": "text/x-python",
   "name": "python",
   "nbconvert_exporter": "python",
   "pygments_lexer": "ipython3",
   "version": "3.10.12"
  }
 },
 "nbformat": 4,
 "nbformat_minor": 5
}
