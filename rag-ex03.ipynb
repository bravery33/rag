{
 "cells": [
  {
   "cell_type": "code",
   "execution_count": null,
   "id": "e358d7be",
   "metadata": {},
   "outputs": [],
   "source": [
    "%pip install python-docx"
   ]
  },
  {
   "cell_type": "markdown",
   "id": "970b4dd1",
   "metadata": {},
   "source": [
    "# 1. 문서 내용 읽기"
   ]
  },
  {
   "cell_type": "markdown",
   "id": "aee6f25f",
   "metadata": {},
   "source": [
    "- python-docx"
   ]
  },
  {
   "cell_type": "code",
   "execution_count": null,
   "id": "050ef1dc",
   "metadata": {},
   "outputs": [],
   "source": [
    "from docx import Document\n",
    "\n",
    "document = Document('law_1.docx')\n",
    "document"
   ]
  },
  {
   "cell_type": "code",
   "execution_count": null,
   "id": "c5eb5f1b",
   "metadata": {},
   "outputs": [],
   "source": [
    "print(dir(document))"
   ]
  },
  {
   "cell_type": "code",
   "execution_count": null,
   "id": "71f348ae",
   "metadata": {},
   "outputs": [],
   "source": [
    "document.paragraphs"
   ]
  },
  {
   "cell_type": "code",
   "execution_count": null,
   "id": "1e9c3ecb",
   "metadata": {},
   "outputs": [],
   "source": [
    "type(document.paragraphs)"
   ]
  },
  {
   "cell_type": "code",
   "execution_count": null,
   "id": "85f643d3",
   "metadata": {},
   "outputs": [],
   "source": [
    "document.paragraphs[0].text"
   ]
  },
  {
   "cell_type": "code",
   "execution_count": null,
   "id": "512fd788",
   "metadata": {},
   "outputs": [],
   "source": [
    "document.paragraphs[1].text"
   ]
  },
  {
   "cell_type": "code",
   "execution_count": null,
   "id": "950b7b84",
   "metadata": {},
   "outputs": [],
   "source": [
    "for index, paragraph in enumerate(document.paragraphs):\n",
    "    print(f'{index}. {paragraph.text}')\n",
    "\n",
    "    if index == 4:\n",
    "        break"
   ]
  },
  {
   "cell_type": "code",
   "execution_count": null,
   "id": "ca8b1b91",
   "metadata": {},
   "outputs": [],
   "source": [
    "## 읽어 온 단락을 하나의 문서로 만들기\n",
    "full_text = ''\n",
    "\n",
    "for paragraph in document.paragraphs:\n",
    "    full_text += f'{paragraph.text}'\n",
    "\n",
    "full_text"
   ]
  },
  {
   "cell_type": "markdown",
   "id": "f8964e93",
   "metadata": {},
   "source": [
    "# 2. 문서 분할(쪼개기)"
   ]
  },
  {
   "cell_type": "code",
   "execution_count": null,
   "id": "be2d6b47",
   "metadata": {},
   "outputs": [],
   "source": [
    "%pip install tiktoken"
   ]
  },
  {
   "cell_type": "code",
   "execution_count": null,
   "id": "bb22ecde",
   "metadata": {},
   "outputs": [],
   "source": [
    "import tiktoken\n",
    "\n",
    "encoding_model = tiktoken.encoding_for_model('gpt-4o')\n",
    "encoding_model"
   ]
  },
  {
   "cell_type": "code",
   "execution_count": null,
   "id": "9a94c42f",
   "metadata": {},
   "outputs": [],
   "source": [
    "## 토큰화\n",
    "encoding = encoding_model.encode(full_text)\n",
    "print(encoding)"
   ]
  },
  {
   "cell_type": "code",
   "execution_count": null,
   "id": "2f2ca489",
   "metadata": {},
   "outputs": [],
   "source": [
    "## 9516, 11734, 5537\n",
    "decoding = encoding_model.decode([9516])\n",
    "decoding"
   ]
  },
  {
   "cell_type": "code",
   "execution_count": null,
   "id": "447b639b",
   "metadata": {},
   "outputs": [],
   "source": [
    "decoding = encoding_model.decode([11734])\n",
    "decoding"
   ]
  },
  {
   "cell_type": "code",
   "execution_count": null,
   "id": "3ed7a98e",
   "metadata": {},
   "outputs": [],
   "source": [
    "decoding = encoding_model.decode([5537])\n",
    "decoding"
   ]
  },
  {
   "cell_type": "code",
   "execution_count": null,
   "id": "7f85e715",
   "metadata": {},
   "outputs": [],
   "source": [
    "len(encoding)"
   ]
  },
  {
   "cell_type": "code",
   "execution_count": null,
   "id": "4c081914",
   "metadata": {},
   "outputs": [],
   "source": [
    "def split_text(full_text, chunk_size):\n",
    "    encoder_model = tiktoken.encoding_for_model('gpt-4o')\n",
    "    total_encoding = encoder_model.encode(full_text)\n",
    "    total_token_count = len(total_encoding)\n",
    "\n",
    "    text_list = []\n",
    "    for i in range(0, total_token_count, chunk_size):\n",
    "        chunk = total_encoding[i: i+chunk_size]\n",
    "        decoding = encoding_model.decode(chunk)\n",
    "        text_list.append(decoding)\n",
    "\n",
    "    return text_list\n",
    "\n"
   ]
  },
  {
   "cell_type": "code",
   "execution_count": null,
   "id": "d3c2f723",
   "metadata": {},
   "outputs": [],
   "source": [
    "chunk_list = split_text(full_text, 1500)\n",
    "chunk_list"
   ]
  },
  {
   "cell_type": "code",
   "execution_count": null,
   "id": "34e73aab",
   "metadata": {},
   "outputs": [],
   "source": [
    "len(chunk_list)"
   ]
  },
  {
   "cell_type": "markdown",
   "id": "781e9d2e",
   "metadata": {},
   "source": [
    "# 3. 벡터 데이터베이스에 저장"
   ]
  },
  {
   "cell_type": "code",
   "execution_count": null,
   "id": "db4fd240",
   "metadata": {},
   "outputs": [],
   "source": [
    "%pip install chromadb"
   ]
  },
  {
   "cell_type": "code",
   "execution_count": null,
   "id": "67ffe6ab",
   "metadata": {},
   "outputs": [],
   "source": [
    "## 임베딩 모델 지정\n",
    "import os\n",
    "from chromadb.utils.embedding_functions import OpenAIEmbeddingFunction\n",
    "\n",
    "OPEN_API_KEY = os.getenv('OPENAI_API_KEY')\n",
    "oepnai_embedding = OpenAIEmbeddingFunction(\n",
    "    api_key=OPEN_API_KEY, \n",
    "    model_name='text-embedding-3-large'\n",
    ")"
   ]
  },
  {
   "cell_type": "code",
   "execution_count": null,
   "id": "f2c31999",
   "metadata": {},
   "outputs": [],
   "source": [
    "## 크로마 클라이언트 생성\n",
    "import chromadb\n",
    "chroma_client = chromadb.Client()"
   ]
  },
  {
   "cell_type": "code",
   "execution_count": null,
   "id": "8d41c59c",
   "metadata": {},
   "outputs": [],
   "source": [
    "collection_name = 'law_collection'\n",
    "\n",
    "law_collection = chroma_client.get_or_create_collection(\n",
    "    collection_name, \n",
    "    embedding_function=oepnai_embedding\n",
    ")"
   ]
  },
  {
   "cell_type": "code",
   "execution_count": null,
   "id": "188d15b9",
   "metadata": {},
   "outputs": [],
   "source": [
    "## 컬렉션에 설정할 인덱스 생성\n",
    "id_list = []\n",
    "\n",
    "for index in range(len(chunk_list)):\n",
    "    id_list.append(f'{index}')\n",
    "\n",
    "## 길이 확인\n",
    "len(id_list), len(chunk_list) "
   ]
  },
  {
   "cell_type": "code",
   "execution_count": null,
   "id": "170fa9d1",
   "metadata": {},
   "outputs": [],
   "source": [
    "law_collection.add(documents=chunk_list, ids=id_list)"
   ]
  },
  {
   "cell_type": "code",
   "execution_count": null,
   "id": "ea7e9e30",
   "metadata": {},
   "outputs": [],
   "source": [
    "law_collection"
   ]
  },
  {
   "cell_type": "code",
   "execution_count": null,
   "id": "b25845b4",
   "metadata": {},
   "outputs": [],
   "source": [
    "## chromadb에 생성된 컬렉션 목록 확인\n",
    "collections = chroma_client.list_collections()\n",
    "collections"
   ]
  },
  {
   "cell_type": "markdown",
   "id": "a5932f32",
   "metadata": {},
   "source": [
    "# 4. 질문이 있으면, 벡터 데이터베이스에서 유사도 검색"
   ]
  },
  {
   "cell_type": "code",
   "execution_count": null,
   "id": "d5e2deaf",
   "metadata": {},
   "outputs": [],
   "source": [
    "query = '전세사기피해자 금융지원에 대해 설명해주세요.'"
   ]
  },
  {
   "cell_type": "code",
   "execution_count": null,
   "id": "a32a0a9b",
   "metadata": {},
   "outputs": [],
   "source": [
    "## 유사도 검색\n",
    "retrieved_doc = law_collection.query(query_texts=query, n_results=3)\n",
    "retrieved_doc"
   ]
  },
  {
   "cell_type": "code",
   "execution_count": null,
   "id": "b259c98d",
   "metadata": {},
   "outputs": [],
   "source": [
    "type(retrieved_doc)"
   ]
  },
  {
   "cell_type": "code",
   "execution_count": null,
   "id": "5c2c797f",
   "metadata": {},
   "outputs": [],
   "source": [
    "type(retrieved_doc['documents'])"
   ]
  },
  {
   "cell_type": "code",
   "execution_count": null,
   "id": "43f3e537",
   "metadata": {},
   "outputs": [],
   "source": [
    "len(retrieved_doc['documents'])"
   ]
  },
  {
   "cell_type": "code",
   "execution_count": null,
   "id": "01a2cb4d",
   "metadata": {},
   "outputs": [],
   "source": [
    "retrieved_doc['documents']"
   ]
  },
  {
   "cell_type": "code",
   "execution_count": null,
   "id": "a0f53a0a",
   "metadata": {},
   "outputs": [],
   "source": [
    "type(retrieved_doc['documents'])"
   ]
  },
  {
   "cell_type": "code",
   "execution_count": null,
   "id": "13b18341",
   "metadata": {},
   "outputs": [],
   "source": [
    "type(retrieved_doc['documents'][0])"
   ]
  },
  {
   "cell_type": "code",
   "execution_count": null,
   "id": "c766b081",
   "metadata": {},
   "outputs": [],
   "source": [
    "len(retrieved_doc['documents'][0])"
   ]
  },
  {
   "cell_type": "code",
   "execution_count": null,
   "id": "630e1697",
   "metadata": {},
   "outputs": [],
   "source": [
    "retrieved_doc['documents'][0][0]"
   ]
  },
  {
   "cell_type": "markdown",
   "id": "f3b50274",
   "metadata": {},
   "source": [
    "# 5. 질문 -> 답변"
   ]
  },
  {
   "cell_type": "code",
   "execution_count": null,
   "id": "159c4736",
   "metadata": {},
   "outputs": [],
   "source": [
    "retrieved_doc['documents'][0]"
   ]
  },
  {
   "cell_type": "code",
   "execution_count": null,
   "id": "7d2f5566",
   "metadata": {},
   "outputs": [],
   "source": [
    "from openai import OpenAI\n",
    "\n",
    "client = OpenAI()\n",
    "\n",
    "response = client.responses.create(\n",
    "    model=\"gpt-4o\",\n",
    "    instructions=f'''당신은 전세사기피해 법률 전문가입니다. \n",
    "        [context]를 참고하여 사용자의 질문에 답변해주세요.\n",
    "        [context]\n",
    "        {retrieved_doc['documents'][0][0]}\n",
    "        ''',\n",
    "    input=query,\n",
    ")\n",
    "\n",
    "print(response.output_text)"
   ]
  },
  {
   "cell_type": "code",
   "execution_count": null,
   "id": "7d5730ea",
   "metadata": {},
   "outputs": [],
   "source": [
    "response.output[0].content[0].text"
   ]
  },
  {
   "cell_type": "code",
   "execution_count": null,
   "id": "b45aacda",
   "metadata": {},
   "outputs": [],
   "source": [
    "response"
   ]
  },
  {
   "cell_type": "code",
   "execution_count": null,
   "id": "0903f17e",
   "metadata": {},
   "outputs": [],
   "source": [
    "from openai import OpenAI\n",
    "client = OpenAI()\n",
    "\n",
    "response = client.responses.create(\n",
    "    model=\"gpt-4.1\",\n",
    "    input=[\n",
    "        {\"role\": \"developer\",\n",
    "         \"content\": f'''당신은 전세사기피해 법률 전문가입니다. \n",
    "[context]를 참고하여 사용자의 질문에 답변해주세요.\n",
    "[context]\n",
    "{retrieved_doc['documents'][0]}'''},\n",
    "        {\"role\": \"user\", \"content\": query}\n",
    "    ]\n",
    ")\n",
    "\n",
    "print(response.output_text)"
   ]
  }
 ],
 "metadata": {
  "kernelspec": {
   "display_name": "project",
   "language": "python",
   "name": "python3"
  },
  "language_info": {
   "codemirror_mode": {
    "name": "ipython",
    "version": 3
   },
   "file_extension": ".py",
   "mimetype": "text/x-python",
   "name": "python",
   "nbconvert_exporter": "python",
   "pygments_lexer": "ipython3",
   "version": "3.10.12"
  }
 },
 "nbformat": 4,
 "nbformat_minor": 5
}
