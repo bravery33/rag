{
 "cells": [
  {
   "cell_type": "code",
   "execution_count": null,
   "id": "6f9e0339",
   "metadata": {},
   "outputs": [],
   "source": [
    "%pip install python-docx"
   ]
  },
  {
   "cell_type": "code",
   "execution_count": null,
   "id": "c5a73444",
   "metadata": {},
   "outputs": [],
   "source": [
    "1. 문서 내용 일기"
   ]
  },
  {
   "cell_type": "code",
   "execution_count": null,
   "id": "412ce797",
   "metadata": {},
   "outputs": [],
   "source": [
    "from docx import Document\n",
    "\n",
    "document = Document('law_1.docx')\n",
    "document"
   ]
  },
  {
   "cell_type": "code",
   "execution_count": null,
   "id": "53a3fc5e",
   "metadata": {},
   "outputs": [],
   "source": [
    "print(dir(document))"
   ]
  },
  {
   "cell_type": "code",
   "execution_count": null,
   "id": "70f77917",
   "metadata": {},
   "outputs": [],
   "source": [
    "type()"
   ]
  },
  {
   "cell_type": "code",
   "execution_count": null,
   "id": "47b53aee",
   "metadata": {},
   "outputs": [],
   "source": [
    "document."
   ]
  },
  {
   "cell_type": "code",
   "execution_count": null,
   "id": "5ed6c16f",
   "metadata": {},
   "outputs": [],
   "source": []
  },
  {
   "cell_type": "code",
   "execution_count": null,
   "id": "89141d71",
   "metadata": {},
   "outputs": [],
   "source": [
    "for index, paragraph in enumerate(document.paragraphs):\n",
    "    print(f'{index}')"
   ]
  },
  {
   "cell_type": "code",
   "execution_count": null,
   "id": "90c2f308",
   "metadata": {},
   "outputs": [],
   "source": [
    "## 읽어 온 단락을 하나의 문서로 만들기\n",
    "full_text = ''"
   ]
  }
 ],
 "metadata": {
  "language_info": {
   "name": "python"
  }
 },
 "nbformat": 4,
 "nbformat_minor": 5
}
