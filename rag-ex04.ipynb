{
 "cells": [
  {
   "cell_type": "markdown",
   "id": "17a31c29",
   "metadata": {},
   "source": [
    "1. 문서 내용 읽기\n",
    "2. 문서 분할(쪼개기)\n",
    "    - 문서를 분할하지 않으면,\n",
    "        - 토큰 수 초과로 답변을 생성하지 못할 수 있음.\n",
    "        - 문서 길이(input)가 길어 답변 생성에 시간 소요\n",
    "3. 임베딩(수치화)\n",
    "    - 벡터 데이터베이스에 저장\n",
    "4. 질문이 있으면 벡터 데이터베이스에 유사도 검색\n",
    "5. 유사도 검색으로 가져온 문서를 LLM에 질문과 같이 전달"
   ]
  },
  {
   "cell_type": "code",
   "execution_count": null,
   "id": "eff98dcc",
   "metadata": {},
   "outputs": [
    {
     "name": "stdout",
     "output_type": "stream",
     "text": [
      "Note: you may need to restart the kernel to use updated packages.\n"
     ]
    }
   ],
   "source": [
    "# 0. 패키지/라이브러리 설치\n",
    "# %pip install -qU docx2txt langchain_community langchain-text-splitters langchain_chroma"
   ]
  },
  {
   "cell_type": "code",
   "execution_count": 2,
   "id": "5baab1c5",
   "metadata": {},
   "outputs": [],
   "source": [
    "from dotenv import load_dotenv\n",
    "from langchain_chroma import Chroma\n",
    "from langchain_openai import OpenAIEmbeddings, ChatOpenAI\n",
    "from langchain_community.document_loaders import Docx2txtLoader\n",
    "from langchain_text_splitters import RecursiveCharacterTextSplitter\n",
    "\n",
    "\n",
    "# 1. 문서 내용 읽고 분할 #######################################\n",
    "loader = Docx2txtLoader('law_1.docx') # --> 인스턴스 생성\n",
    "\n",
    "text_splitter = RecursiveCharacterTextSplitter( # --> 분할 설정\n",
    "    chunk_size=1500,\n",
    "    chunk_overlap=200,\n",
    ")\n",
    "\n",
    "document_list = loader.load_and_split(text_splitter=text_splitter)\n",
    "\n",
    "# 2. 임베딩 -> 백터 데이터베이스에 저장  #########################\n",
    "\n",
    "## 2.1 환경변수 읽어오기\n",
    "load_dotenv()\n",
    "\n",
    "## 2.2 임베딩 모델 지정\n",
    "embedding = OpenAIEmbeddings(\n",
    "    model='text-embedding-3-large'\n",
    ")\n"
   ]
  },
  {
   "cell_type": "code",
   "execution_count": null,
   "id": "e859b448",
   "metadata": {},
   "outputs": [],
   "source": [
    "\n",
    "## 2.3 벡터 데이터베이스에 저장(in memory)\n",
    "## [방법1]\n",
    "# database = Chroma.from_documents(\n",
    "#     documents=document_list,\n",
    "#     embedding=embedding,\n",
    "# )"
   ]
  },
  {
   "cell_type": "code",
   "execution_count": 3,
   "id": "1106aeb9",
   "metadata": {},
   "outputs": [
    {
     "name": "stdout",
     "output_type": "stream",
     "text": [
      "Collecting langchain-pinecone\n",
      "  Downloading langchain_pinecone-0.2.6-py3-none-any.whl.metadata (5.3 kB)\n",
      "Requirement already satisfied: langchain-core<1.0.0,>=0.3.34 in c:\\users\\2\\miniconda3\\envs\\project\\lib\\site-packages (from langchain-pinecone) (0.3.60)\n",
      "Collecting pinecone<7.0.0,>=6.0.0 (from pinecone[async]<7.0.0,>=6.0.0->langchain-pinecone)\n",
      "  Downloading pinecone-6.0.2-py3-none-any.whl.metadata (9.0 kB)\n",
      "Collecting aiohttp<3.11,>=3.10 (from langchain-pinecone)\n",
      "  Downloading aiohttp-3.10.11-cp310-cp310-win_amd64.whl.metadata (8.0 kB)\n",
      "Requirement already satisfied: numpy>=1.26.4 in c:\\users\\2\\miniconda3\\envs\\project\\lib\\site-packages (from langchain-pinecone) (2.2.6)\n",
      "Collecting langchain-tests<1.0.0,>=0.3.7 (from langchain-pinecone)\n",
      "  Downloading langchain_tests-0.3.19-py3-none-any.whl.metadata (3.2 kB)\n",
      "Requirement already satisfied: aiohappyeyeballs>=2.3.0 in c:\\users\\2\\miniconda3\\envs\\project\\lib\\site-packages (from aiohttp<3.11,>=3.10->langchain-pinecone) (2.6.1)\n",
      "Requirement already satisfied: aiosignal>=1.1.2 in c:\\users\\2\\miniconda3\\envs\\project\\lib\\site-packages (from aiohttp<3.11,>=3.10->langchain-pinecone) (1.3.2)\n",
      "Requirement already satisfied: attrs>=17.3.0 in c:\\users\\2\\miniconda3\\envs\\project\\lib\\site-packages (from aiohttp<3.11,>=3.10->langchain-pinecone) (25.3.0)\n",
      "Requirement already satisfied: frozenlist>=1.1.1 in c:\\users\\2\\miniconda3\\envs\\project\\lib\\site-packages (from aiohttp<3.11,>=3.10->langchain-pinecone) (1.6.0)\n",
      "Requirement already satisfied: multidict<7.0,>=4.5 in c:\\users\\2\\miniconda3\\envs\\project\\lib\\site-packages (from aiohttp<3.11,>=3.10->langchain-pinecone) (6.4.3)\n",
      "Requirement already satisfied: yarl<2.0,>=1.12.0 in c:\\users\\2\\miniconda3\\envs\\project\\lib\\site-packages (from aiohttp<3.11,>=3.10->langchain-pinecone) (1.20.0)\n",
      "Requirement already satisfied: async-timeout<6.0,>=4.0 in c:\\users\\2\\miniconda3\\envs\\project\\lib\\site-packages (from aiohttp<3.11,>=3.10->langchain-pinecone) (4.0.3)\n",
      "Requirement already satisfied: langsmith<0.4,>=0.1.126 in c:\\users\\2\\miniconda3\\envs\\project\\lib\\site-packages (from langchain-core<1.0.0,>=0.3.34->langchain-pinecone) (0.3.33)\n",
      "Requirement already satisfied: tenacity!=8.4.0,<10.0.0,>=8.1.0 in c:\\users\\2\\miniconda3\\envs\\project\\lib\\site-packages (from langchain-core<1.0.0,>=0.3.34->langchain-pinecone) (9.1.2)\n",
      "Requirement already satisfied: jsonpatch<2.0,>=1.33 in c:\\users\\2\\miniconda3\\envs\\project\\lib\\site-packages (from langchain-core<1.0.0,>=0.3.34->langchain-pinecone) (1.33)\n",
      "Requirement already satisfied: PyYAML>=5.3 in c:\\users\\2\\miniconda3\\envs\\project\\lib\\site-packages (from langchain-core<1.0.0,>=0.3.34->langchain-pinecone) (6.0.2)\n",
      "Requirement already satisfied: packaging<25,>=23.2 in c:\\users\\2\\miniconda3\\envs\\project\\lib\\site-packages (from langchain-core<1.0.0,>=0.3.34->langchain-pinecone) (24.2)\n",
      "Requirement already satisfied: typing-extensions>=4.7 in c:\\users\\2\\miniconda3\\envs\\project\\lib\\site-packages (from langchain-core<1.0.0,>=0.3.34->langchain-pinecone) (4.13.2)\n",
      "Requirement already satisfied: pydantic>=2.7.4 in c:\\users\\2\\miniconda3\\envs\\project\\lib\\site-packages (from langchain-core<1.0.0,>=0.3.34->langchain-pinecone) (2.11.3)\n",
      "Collecting pytest<9,>=7 (from langchain-tests<1.0.0,>=0.3.7->langchain-pinecone)\n",
      "  Downloading pytest-8.4.0-py3-none-any.whl.metadata (7.7 kB)\n",
      "Collecting pytest-asyncio<1,>=0.20 (from langchain-tests<1.0.0,>=0.3.7->langchain-pinecone)\n",
      "  Downloading pytest_asyncio-0.26.0-py3-none-any.whl.metadata (4.0 kB)\n",
      "Requirement already satisfied: httpx<1,>=0.25.0 in c:\\users\\2\\miniconda3\\envs\\project\\lib\\site-packages (from langchain-tests<1.0.0,>=0.3.7->langchain-pinecone) (0.28.1)\n",
      "Collecting syrupy<5,>=4 (from langchain-tests<1.0.0,>=0.3.7->langchain-pinecone)\n",
      "  Downloading syrupy-4.9.1-py3-none-any.whl.metadata (38 kB)\n",
      "Collecting pytest-socket<1,>=0.6.0 (from langchain-tests<1.0.0,>=0.3.7->langchain-pinecone)\n",
      "  Downloading pytest_socket-0.7.0-py3-none-any.whl.metadata (6.7 kB)\n",
      "Requirement already satisfied: certifi>=2019.11.17 in c:\\users\\2\\miniconda3\\envs\\project\\lib\\site-packages (from pinecone<7.0.0,>=6.0.0->pinecone[async]<7.0.0,>=6.0.0->langchain-pinecone) (2025.1.31)\n",
      "Collecting pinecone-plugin-interface<0.0.8,>=0.0.7 (from pinecone<7.0.0,>=6.0.0->pinecone[async]<7.0.0,>=6.0.0->langchain-pinecone)\n",
      "  Downloading pinecone_plugin_interface-0.0.7-py3-none-any.whl.metadata (1.2 kB)\n",
      "Requirement already satisfied: python-dateutil>=2.5.3 in c:\\users\\2\\miniconda3\\envs\\project\\lib\\site-packages (from pinecone<7.0.0,>=6.0.0->pinecone[async]<7.0.0,>=6.0.0->langchain-pinecone) (2.9.0.post0)\n",
      "Requirement already satisfied: urllib3>=1.26.0 in c:\\users\\2\\miniconda3\\envs\\project\\lib\\site-packages (from pinecone<7.0.0,>=6.0.0->pinecone[async]<7.0.0,>=6.0.0->langchain-pinecone) (2.4.0)\n",
      "Requirement already satisfied: anyio in c:\\users\\2\\miniconda3\\envs\\project\\lib\\site-packages (from httpx<1,>=0.25.0->langchain-tests<1.0.0,>=0.3.7->langchain-pinecone) (4.9.0)\n",
      "Requirement already satisfied: httpcore==1.* in c:\\users\\2\\miniconda3\\envs\\project\\lib\\site-packages (from httpx<1,>=0.25.0->langchain-tests<1.0.0,>=0.3.7->langchain-pinecone) (1.0.8)\n",
      "Requirement already satisfied: idna in c:\\users\\2\\miniconda3\\envs\\project\\lib\\site-packages (from httpx<1,>=0.25.0->langchain-tests<1.0.0,>=0.3.7->langchain-pinecone) (3.10)\n",
      "Requirement already satisfied: h11<0.15,>=0.13 in c:\\users\\2\\miniconda3\\envs\\project\\lib\\site-packages (from httpcore==1.*->httpx<1,>=0.25.0->langchain-tests<1.0.0,>=0.3.7->langchain-pinecone) (0.14.0)\n",
      "Requirement already satisfied: jsonpointer>=1.9 in c:\\users\\2\\miniconda3\\envs\\project\\lib\\site-packages (from jsonpatch<2.0,>=1.33->langchain-core<1.0.0,>=0.3.34->langchain-pinecone) (3.0.0)\n",
      "Requirement already satisfied: orjson<4.0.0,>=3.9.14 in c:\\users\\2\\miniconda3\\envs\\project\\lib\\site-packages (from langsmith<0.4,>=0.1.126->langchain-core<1.0.0,>=0.3.34->langchain-pinecone) (3.10.16)\n",
      "Requirement already satisfied: requests<3,>=2 in c:\\users\\2\\miniconda3\\envs\\project\\lib\\site-packages (from langsmith<0.4,>=0.1.126->langchain-core<1.0.0,>=0.3.34->langchain-pinecone) (2.32.3)\n",
      "Requirement already satisfied: requests-toolbelt<2.0.0,>=1.0.0 in c:\\users\\2\\miniconda3\\envs\\project\\lib\\site-packages (from langsmith<0.4,>=0.1.126->langchain-core<1.0.0,>=0.3.34->langchain-pinecone) (1.0.0)\n",
      "Requirement already satisfied: zstandard<0.24.0,>=0.23.0 in c:\\users\\2\\miniconda3\\envs\\project\\lib\\site-packages (from langsmith<0.4,>=0.1.126->langchain-core<1.0.0,>=0.3.34->langchain-pinecone) (0.23.0)\n",
      "Requirement already satisfied: annotated-types>=0.6.0 in c:\\users\\2\\miniconda3\\envs\\project\\lib\\site-packages (from pydantic>=2.7.4->langchain-core<1.0.0,>=0.3.34->langchain-pinecone) (0.7.0)\n",
      "Requirement already satisfied: pydantic-core==2.33.1 in c:\\users\\2\\miniconda3\\envs\\project\\lib\\site-packages (from pydantic>=2.7.4->langchain-core<1.0.0,>=0.3.34->langchain-pinecone) (2.33.1)\n",
      "Requirement already satisfied: typing-inspection>=0.4.0 in c:\\users\\2\\miniconda3\\envs\\project\\lib\\site-packages (from pydantic>=2.7.4->langchain-core<1.0.0,>=0.3.34->langchain-pinecone) (0.4.0)\n",
      "Requirement already satisfied: colorama>=0.4 in c:\\users\\2\\miniconda3\\envs\\project\\lib\\site-packages (from pytest<9,>=7->langchain-tests<1.0.0,>=0.3.7->langchain-pinecone) (0.4.6)\n",
      "Requirement already satisfied: exceptiongroup>=1 in c:\\users\\2\\miniconda3\\envs\\project\\lib\\site-packages (from pytest<9,>=7->langchain-tests<1.0.0,>=0.3.7->langchain-pinecone) (1.2.2)\n",
      "Collecting iniconfig>=1 (from pytest<9,>=7->langchain-tests<1.0.0,>=0.3.7->langchain-pinecone)\n",
      "  Downloading iniconfig-2.1.0-py3-none-any.whl.metadata (2.7 kB)\n",
      "Collecting pluggy<2,>=1.5 (from pytest<9,>=7->langchain-tests<1.0.0,>=0.3.7->langchain-pinecone)\n",
      "  Downloading pluggy-1.6.0-py3-none-any.whl.metadata (4.8 kB)\n",
      "Requirement already satisfied: pygments>=2.7.2 in c:\\users\\2\\miniconda3\\envs\\project\\lib\\site-packages (from pytest<9,>=7->langchain-tests<1.0.0,>=0.3.7->langchain-pinecone) (2.19.1)\n",
      "Requirement already satisfied: tomli>=1 in c:\\users\\2\\miniconda3\\envs\\project\\lib\\site-packages (from pytest<9,>=7->langchain-tests<1.0.0,>=0.3.7->langchain-pinecone) (2.2.1)\n",
      "Requirement already satisfied: six>=1.5 in c:\\users\\2\\miniconda3\\envs\\project\\lib\\site-packages (from python-dateutil>=2.5.3->pinecone<7.0.0,>=6.0.0->pinecone[async]<7.0.0,>=6.0.0->langchain-pinecone) (1.17.0)\n",
      "Requirement already satisfied: propcache>=0.2.1 in c:\\users\\2\\miniconda3\\envs\\project\\lib\\site-packages (from yarl<2.0,>=1.12.0->aiohttp<3.11,>=3.10->langchain-pinecone) (0.3.1)\n",
      "Requirement already satisfied: charset-normalizer<4,>=2 in c:\\users\\2\\miniconda3\\envs\\project\\lib\\site-packages (from requests<3,>=2->langsmith<0.4,>=0.1.126->langchain-core<1.0.0,>=0.3.34->langchain-pinecone) (3.4.1)\n",
      "Requirement already satisfied: sniffio>=1.1 in c:\\users\\2\\miniconda3\\envs\\project\\lib\\site-packages (from anyio->httpx<1,>=0.25.0->langchain-tests<1.0.0,>=0.3.7->langchain-pinecone) (1.3.1)\n",
      "Downloading langchain_pinecone-0.2.6-py3-none-any.whl (23 kB)\n",
      "Downloading aiohttp-3.10.11-cp310-cp310-win_amd64.whl (382 kB)\n",
      "Downloading langchain_tests-0.3.19-py3-none-any.whl (40 kB)\n",
      "Downloading pinecone-6.0.2-py3-none-any.whl (421 kB)\n",
      "Downloading pinecone_plugin_interface-0.0.7-py3-none-any.whl (6.2 kB)\n",
      "Downloading pytest-8.4.0-py3-none-any.whl (363 kB)\n",
      "Downloading pytest_asyncio-0.26.0-py3-none-any.whl (19 kB)\n",
      "Downloading pytest_socket-0.7.0-py3-none-any.whl (6.8 kB)\n",
      "Downloading syrupy-4.9.1-py3-none-any.whl (52 kB)\n",
      "Downloading iniconfig-2.1.0-py3-none-any.whl (6.0 kB)\n",
      "Downloading pluggy-1.6.0-py3-none-any.whl (20 kB)\n",
      "Installing collected packages: pluggy, pinecone-plugin-interface, iniconfig, pytest, pinecone, syrupy, pytest-socket, pytest-asyncio, aiohttp, langchain-tests, langchain-pinecone\n",
      "  Attempting uninstall: aiohttp\n",
      "    Found existing installation: aiohttp 3.11.18\n",
      "    Uninstalling aiohttp-3.11.18:\n",
      "      Successfully uninstalled aiohttp-3.11.18\n",
      "Successfully installed aiohttp-3.10.11 iniconfig-2.1.0 langchain-pinecone-0.2.6 langchain-tests-0.3.19 pinecone-6.0.2 pinecone-plugin-interface-0.0.7 pluggy-1.6.0 pytest-8.4.0 pytest-asyncio-0.26.0 pytest-socket-0.7.0 syrupy-4.9.1\n",
      "Note: you may need to restart the kernel to use updated packages.\n"
     ]
    },
    {
     "name": "stderr",
     "output_type": "stream",
     "text": [
      "WARNING: pinecone 6.0.2 does not provide the extra 'async'\n"
     ]
    }
   ],
   "source": [
    "%pip install langchain-pinecone"
   ]
  },
  {
   "cell_type": "code",
   "execution_count": 4,
   "id": "17174668",
   "metadata": {},
   "outputs": [
    {
     "name": "stdout",
     "output_type": "stream",
     "text": [
      "Requirement already satisfied: pinecone in c:\\users\\2\\miniconda3\\envs\\project\\lib\\site-packages (6.0.2)\n",
      "Requirement already satisfied: certifi>=2019.11.17 in c:\\users\\2\\miniconda3\\envs\\project\\lib\\site-packages (from pinecone) (2025.1.31)\n",
      "Requirement already satisfied: pinecone-plugin-interface<0.0.8,>=0.0.7 in c:\\users\\2\\miniconda3\\envs\\project\\lib\\site-packages (from pinecone) (0.0.7)\n",
      "Requirement already satisfied: python-dateutil>=2.5.3 in c:\\users\\2\\miniconda3\\envs\\project\\lib\\site-packages (from pinecone) (2.9.0.post0)\n",
      "Requirement already satisfied: typing-extensions>=3.7.4 in c:\\users\\2\\miniconda3\\envs\\project\\lib\\site-packages (from pinecone) (4.13.2)\n",
      "Requirement already satisfied: urllib3>=1.26.0 in c:\\users\\2\\miniconda3\\envs\\project\\lib\\site-packages (from pinecone) (2.4.0)\n",
      "Requirement already satisfied: six>=1.5 in c:\\users\\2\\miniconda3\\envs\\project\\lib\\site-packages (from python-dateutil>=2.5.3->pinecone) (1.17.0)\n",
      "Note: you may need to restart the kernel to use updated packages.\n"
     ]
    }
   ],
   "source": [
    "%pip install pinecone"
   ]
  },
  {
   "cell_type": "code",
   "execution_count": 7,
   "id": "f1c92636",
   "metadata": {},
   "outputs": [],
   "source": [
    "from pinecone import Pinecone\n",
    "from dotenv import load_dotenv\n",
    "import os\n",
    "\n",
    "load_dotenv()\n",
    "api_key = os.getenv('PINECONE_API_KEY')\n",
    "pc = Pinecone(api_key=api_key)\n",
    "# pc = Pinecone(api_key=\"PINECONE_API_KEY\")"
   ]
  },
  {
   "cell_type": "code",
   "execution_count": 8,
   "id": "7d4d2c7c",
   "metadata": {},
   "outputs": [
    {
     "data": {
      "text/plain": [
       "<langchain_pinecone.vectorstores.PineconeVectorStore at 0x20a79b744c0>"
      ]
     },
     "execution_count": 8,
     "metadata": {},
     "output_type": "execute_result"
    }
   ],
   "source": [
    "from langchain_pinecone import PineconeVectorStore\n",
    "\n",
    "database = PineconeVectorStore.from_documents(\n",
    "    index_name='law-index',\n",
    "    embedding=embedding,\n",
    "    documents=document_list,    \n",
    ")\n",
    "\n",
    "database"
   ]
  },
  {
   "cell_type": "code",
   "execution_count": 9,
   "id": "6cbd7d9d",
   "metadata": {},
   "outputs": [
    {
     "data": {
      "text/plain": [
       "'전세사기피해자 금융지원은 전세사기피해자 및 해당 법에 따른 임차인의 긴박한 주거안정을 보호하기 위해 국가 및 지방자치단체가 필요한 자금을 융자하거나 그 밖에 필요한 지원을 할 수 있는 것을 말합니다. 국가는 우선변제를 받지 못한 전세사기피해자에게 주택도시기금에서 주택의 임대차에 필요한 자금을 융자할 수 있습니다. 또한, 금융회사 등은 전세사기피해자등의 대출에 대한 채무의 불이행 및 대위변제를 관리하기 위해 특정 조치를 할 수 있습니다.'"
      ]
     },
     "execution_count": 9,
     "metadata": {},
     "output_type": "execute_result"
    }
   ],
   "source": [
    "\n",
    "# 3. 질문이 있으면, 벡터 데이터베이스에서 유사도 검색  #############\n",
    "\n",
    "## 3.1 사용자 질문\n",
    "query = '전세사기피해자 금융지원에 대해 설명해주세요.'\n",
    "\n",
    "## 3.2 벡터 데이터베이스에서 유사도 검색\n",
    "retrieved_docs = database.similarity_search(query=query, k=2)\n",
    "\n",
    "# 4. 유사도 검색으로 가져온 문서를 LLM에 질문과 같이 전달 ###########\n",
    "\n",
    "## 4.1 프롬프트 작성\n",
    "prompt = '''\n",
    "[identity]\n",
    "- 당신은 전세사기피해 법률 전문가입니다.\n",
    "- [context]를 참고하여 사용자의 질문에 답변해주세요.\n",
    "\n",
    "[context]\n",
    "{retrieved_docs}\n",
    "\n",
    "Question: {query}\n",
    "'''\n",
    "\n",
    "## 4.2 프롬프트 변수에 값 설정(format 함수)\n",
    "formatted_prompt = prompt.format(retrieved_docs=retrieved_docs, query=query)\n",
    " \n",
    "## 4.3 LLM 모델 생성(ChatOpenAI 인스턴스 생성)\n",
    "llm = ChatOpenAI()\n",
    "\n",
    "## 4.4 LLM 모델에 질문과 검색된 문서를 보냄\n",
    "ai_message = llm.invoke(formatted_prompt)\n",
    "ai_message.content"
   ]
  }
 ],
 "metadata": {
  "kernelspec": {
   "display_name": "project",
   "language": "python",
   "name": "python3"
  },
  "language_info": {
   "codemirror_mode": {
    "name": "ipython",
    "version": 3
   },
   "file_extension": ".py",
   "mimetype": "text/x-python",
   "name": "python",
   "nbconvert_exporter": "python",
   "pygments_lexer": "ipython3",
   "version": "3.10.12"
  }
 },
 "nbformat": 4,
 "nbformat_minor": 5
}
