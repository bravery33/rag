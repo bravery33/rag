{
 "cells": [
  {
   "cell_type": "code",
   "execution_count": null,
   "id": "378bac36",
   "metadata": {},
   "outputs": [],
   "source": [
    "## law_1.docx, law_2.docx\n",
    "- pinecone store 저장\n",
    "    - index name: 임의\n",
    "- RetrievalQA 구현\n",
    "    - prompt: rlm/rag-prompt\n",
    "    - 질문: 전세사기"
   ]
  },
  {
   "cell_type": "code",
   "execution_count": 6,
   "id": "65a7fed9",
   "metadata": {},
   "outputs": [],
   "source": [
    "from dotenv import load_dotenv\n",
    "import os\n",
    "from pinecone import Pinecone \n",
    "from langchain_pinecone import PineconeVectorStore\n",
    "from langchain import hub\n",
    "from langchain_openai import OpenAIEmbeddings, ChatOpenAI\n",
    "from langchain_core.output_parsers import StrOutputParser\n",
    "from langchain_core.runnables import RunnablePassthrough\n",
    "from langchain_community.document_loaders import Docx2txtLoader\n",
    "from langchain_text_splitters import RecursiveCharacterTextSplitter\n",
    "\n",
    "\n",
    "load_dotenv()\n",
    "\n",
    "api_key = os.getenv('PINECONE_API_KEY')\n",
    "pc = Pinecone(api_key=api_key)\n",
    "\n",
    "llm = ChatOpenAI()\n",
    "\n",
    "prompt = hub.pull('rlm/rag-prompt')\n",
    "\n",
    "loader1 = Docx2txtLoader('law_1.docx')\n",
    "loader2 = Docx2txtLoader('law_2.docx')\n",
    "\n",
    "docs1 = loader1.load()\n",
    "docs2 = loader2.load()\n",
    "\n",
    "documents = docs1 + docs2\n",
    "\n",
    "text_splitter = RecursiveCharacterTextSplitter(\n",
    "    chunk_size=1500,\n",
    "    chunk_overlap=200,\n",
    ")\n",
    "\n",
    "document_list = text_splitter.split_documents(documents)\n",
    "\n",
    "embedding = OpenAIEmbeddings(model='text-embedding-3-large')\n",
    "\n",
    "database = PineconeVectorStore.from_documents(\n",
    "    index_name='laws-index',\n",
    "    embedding=embedding,\n",
    "    documents=document_list,    \n",
    ")"
   ]
  },
  {
   "cell_type": "code",
   "execution_count": 10,
   "id": "6f8f824b",
   "metadata": {},
   "outputs": [
    {
     "data": {
      "text/plain": [
       "'전세사기피해주택 임대인의 국세는 해당 주택의 시가표준액과 보유한 모든 주택의 가격 합계액을 고려하여 산정됩니다. 국세는 A × (B / C)의 공식에 따라 계산되며, A는 체납한 국세 금액, B는 해당 주택의 가격, C는 임대인이 보유한 모든 주택의 가격 합계액입니다.여기에 기타 부과세와 국세의 경우에 따라 상속세, 증여세, 종합부동산세 등을 고려하여 산정됩니다.'"
      ]
     },
     "execution_count": 10,
     "metadata": {},
     "output_type": "execute_result"
    }
   ],
   "source": [
    "database = PineconeVectorStore(\n",
    "    index_name='laws-index',\n",
    "    embedding=embedding,\n",
    ")\n",
    "\n",
    "def format_docs(docs):\n",
    "    return '\\n\\n'.join(doc.page_content for doc in docs)\n",
    "\n",
    "qa_chain = (\n",
    "    {\n",
    "        'context': database.as_retriever() | format_docs,\n",
    "        'question': RunnablePassthrough(),\n",
    "    }\n",
    "    | prompt \n",
    "    | llm    \n",
    "    | StrOutputParser() \n",
    ")\n",
    "\n",
    "qa_chain.invoke('전세사기 피해주택 임대인의 국세는 어떻게 계산하나요? 정확한 수식을 알려주세요')"
   ]
  }
 ],
 "metadata": {
  "kernelspec": {
   "display_name": "project",
   "language": "python",
   "name": "python3"
  },
  "language_info": {
   "codemirror_mode": {
    "name": "ipython",
    "version": 3
   },
   "file_extension": ".py",
   "mimetype": "text/x-python",
   "name": "python",
   "nbconvert_exporter": "python",
   "pygments_lexer": "ipython3",
   "version": "3.10.12"
  }
 },
 "nbformat": 4,
 "nbformat_minor": 5
}
